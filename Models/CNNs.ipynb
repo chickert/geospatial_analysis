{
  "nbformat": 4,
  "nbformat_minor": 0,
  "metadata": {
    "colab": {
      "name": "AM216_finalProject_CNNs.ipynb",
      "provenance": [],
      "collapsed_sections": []
    },
    "kernelspec": {
      "name": "python3",
      "display_name": "Python 3"
    }
  },
  "cells": [
    {
      "cell_type": "code",
      "metadata": {
        "id": "rCZIqPwDbfxn",
        "colab_type": "code",
        "colab": {}
      },
      "source": [
        "import numpy as np\n",
        "import pandas as pd\n",
        "import h5py\n",
        "from matplotlib import pyplot as plt\n",
        "from sklearn.model_selection import train_test_split\n",
        "\n",
        "import tensorflow as tf\n",
        "from tensorflow.keras.models import Sequential, Model\n",
        "from tensorflow.keras.layers import Dense, Dropout, Flatten, Activation, Input\n",
        "from tensorflow.keras.layers import Conv2D, MaxPooling2D, UpSampling2D, Concatenate\n",
        "from tensorflow.keras.optimizers import Adam, SGD"
      ],
      "execution_count": 0,
      "outputs": []
    },
    {
      "cell_type": "markdown",
      "metadata": {
        "id": "YSJ4zryYeJWi",
        "colab_type": "text"
      },
      "source": [
        "Deep Sequential CNN"
      ]
    },
    {
      "cell_type": "code",
      "metadata": {
        "id": "m2dzLbkFbzPc",
        "colab_type": "code",
        "outputId": "e01145fa-ee0b-4c42-f43f-4c2e835453ac",
        "colab": {
          "base_uri": "https://localhost:8080/",
          "height": 663
        }
      },
      "source": [
        "model = Sequential()\n",
        "model.add(Input(shape=(64,64,6)))\n",
        "model.add(Conv2D(64,(3,3), padding=\"same\", activation='relu'))\n",
        "model.add(Conv2D(64,(3,3), padding=\"same\", activation='relu'))\n",
        "model.add(MaxPooling2D((2,2), strides=(2,2)))\n",
        "model.add(Conv2D(128,(3,3), padding=\"same\", activation='relu'))\n",
        "model.add(Conv2D(128,(3,3),padding=\"same\", activation='relu'))\n",
        "model.add(MaxPooling2D((2,2), strides=(2,2)))\n",
        "model.add(Conv2D(256,(3,3), padding=\"same\", activation='relu'))\n",
        "model.add(Conv2D(256,(3,3),padding=\"same\", activation='relu'))\n",
        "\n",
        "model.add(UpSampling2D((2,2)))\n",
        "model.add(Conv2D(128,(3,3), padding=\"same\", activation='relu'))\n",
        "model.add(Conv2D(128,(3,3),padding=\"same\", activation='relu'))\n",
        "model.add(UpSampling2D((2,2)))\n",
        "model.add(Conv2D(64,(3,3), padding=\"same\", activation='relu'))\n",
        "model.add(Conv2D(64,(3,3),padding=\"same\", activation='relu'))\n",
        "model.add(Conv2D(6,(1,1),padding=\"same\", activation='linear'))\n",
        "\n",
        "model.summary()"
      ],
      "execution_count": 0,
      "outputs": [
        {
          "output_type": "stream",
          "text": [
            "Model: \"sequential_5\"\n",
            "_________________________________________________________________\n",
            "Layer (type)                 Output Shape              Param #   \n",
            "=================================================================\n",
            "conv2d_83 (Conv2D)           (None, 64, 64, 64)        3520      \n",
            "_________________________________________________________________\n",
            "conv2d_84 (Conv2D)           (None, 64, 64, 64)        36928     \n",
            "_________________________________________________________________\n",
            "max_pooling2d_18 (MaxPooling (None, 32, 32, 64)        0         \n",
            "_________________________________________________________________\n",
            "conv2d_85 (Conv2D)           (None, 32, 32, 128)       73856     \n",
            "_________________________________________________________________\n",
            "conv2d_86 (Conv2D)           (None, 32, 32, 128)       147584    \n",
            "_________________________________________________________________\n",
            "max_pooling2d_19 (MaxPooling (None, 16, 16, 128)       0         \n",
            "_________________________________________________________________\n",
            "conv2d_87 (Conv2D)           (None, 16, 16, 256)       295168    \n",
            "_________________________________________________________________\n",
            "conv2d_88 (Conv2D)           (None, 16, 16, 256)       590080    \n",
            "_________________________________________________________________\n",
            "up_sampling2d_12 (UpSampling (None, 32, 32, 256)       0         \n",
            "_________________________________________________________________\n",
            "conv2d_89 (Conv2D)           (None, 32, 32, 128)       295040    \n",
            "_________________________________________________________________\n",
            "conv2d_90 (Conv2D)           (None, 32, 32, 128)       147584    \n",
            "_________________________________________________________________\n",
            "up_sampling2d_13 (UpSampling (None, 64, 64, 128)       0         \n",
            "_________________________________________________________________\n",
            "conv2d_91 (Conv2D)           (None, 64, 64, 64)        73792     \n",
            "_________________________________________________________________\n",
            "conv2d_92 (Conv2D)           (None, 64, 64, 64)        36928     \n",
            "_________________________________________________________________\n",
            "conv2d_93 (Conv2D)           (None, 64, 64, 6)         390       \n",
            "=================================================================\n",
            "Total params: 1,700,870\n",
            "Trainable params: 1,700,870\n",
            "Non-trainable params: 0\n",
            "_________________________________________________________________\n"
          ],
          "name": "stdout"
        }
      ]
    },
    {
      "cell_type": "markdown",
      "metadata": {
        "id": "eDaPEDLLePCP",
        "colab_type": "text"
      },
      "source": [
        "Deep U-Net CNN"
      ]
    },
    {
      "cell_type": "code",
      "metadata": {
        "id": "M81PeJWSdRTA",
        "colab_type": "code",
        "colab": {}
      },
      "source": [
        "input_feat = Input(shape=(64,64,6))\n",
        "conv_layer1 = Conv2D(64,(3,3), padding=\"same\", activation='relu')(input_feat)\n",
        "conv_layer2 = Conv2D(64,(3,3), padding=\"same\", activation='relu')(conv_layer1)\n",
        "max_pool1 = MaxPooling2D((2,2), strides=(2,2))(conv_layer1)\n",
        "conv_layer3 = Conv2D(128,(3,3), padding=\"same\", activation='relu')(max_pool1)\n",
        "conv_layer4 = Conv2D(128,(3,3), padding=\"same\", activation='relu')(conv_layer3)\n",
        "max_pool2 = MaxPooling2D((2,2), strides=(2,2))(conv_layer4)\n",
        "conv_layer5 = Conv2D(256,(3,3), padding=\"same\", activation='relu')(max_pool2)\n",
        "conv_layer6 = Conv2D(256,(3,3),padding=\"same\", activation='relu')(conv_layer5)\n",
        "\n",
        "# upsampling and concatenating\n",
        "upsample1 = UpSampling2D((2,2))(conv_layer6)\n",
        "concat1 = Concatenate()([upsample1, conv_layer4])\n",
        "conv_layer7 = Conv2D(128,(3,3), padding=\"same\", activation='relu')(concat1)\n",
        "conv_layer8 = Conv2D(128,(3,3),padding=\"same\", activation='relu')(conv_layer7)\n",
        "upsample2 = UpSampling2D((2,2))(conv_layer8)\n",
        "concat2 = Concatenate()([upsample2, conv_layer2])\n",
        "conv_layer9 = Conv2D(64,(3,3), padding=\"same\", activation='relu')(concat2)\n",
        "conv_layer10 = Conv2D(64,(3,3),padding=\"same\", activation='relu')(conv_layer9)\n",
        "output = Conv2D(6,(1,1),padding=\"same\", activation='linear')(conv_layer10)\n"
      ],
      "execution_count": 0,
      "outputs": []
    },
    {
      "cell_type": "code",
      "metadata": {
        "id": "lGnaDwMBfsZY",
        "colab_type": "code",
        "outputId": "dd095349-0ce6-474c-e9f1-ac1c3435b2fb",
        "colab": {
          "base_uri": "https://localhost:8080/",
          "height": 799
        }
      },
      "source": [
        "unet_model = tf.keras.Model(input_feat, output)\n",
        "unet_model.summary()"
      ],
      "execution_count": 0,
      "outputs": [
        {
          "output_type": "stream",
          "text": [
            "Model: \"model_1\"\n",
            "__________________________________________________________________________________________________\n",
            "Layer (type)                    Output Shape         Param #     Connected to                     \n",
            "==================================================================================================\n",
            "input_6 (InputLayer)            [(None, 64, 64, 6)]  0                                            \n",
            "__________________________________________________________________________________________________\n",
            "conv2d_72 (Conv2D)              (None, 64, 64, 64)   3520        input_6[0][0]                    \n",
            "__________________________________________________________________________________________________\n",
            "max_pooling2d_16 (MaxPooling2D) (None, 32, 32, 64)   0           conv2d_72[0][0]                  \n",
            "__________________________________________________________________________________________________\n",
            "conv2d_74 (Conv2D)              (None, 32, 32, 128)  73856       max_pooling2d_16[0][0]           \n",
            "__________________________________________________________________________________________________\n",
            "conv2d_75 (Conv2D)              (None, 32, 32, 128)  147584      conv2d_74[0][0]                  \n",
            "__________________________________________________________________________________________________\n",
            "max_pooling2d_17 (MaxPooling2D) (None, 16, 16, 128)  0           conv2d_75[0][0]                  \n",
            "__________________________________________________________________________________________________\n",
            "conv2d_76 (Conv2D)              (None, 16, 16, 256)  295168      max_pooling2d_17[0][0]           \n",
            "__________________________________________________________________________________________________\n",
            "conv2d_77 (Conv2D)              (None, 16, 16, 256)  590080      conv2d_76[0][0]                  \n",
            "__________________________________________________________________________________________________\n",
            "up_sampling2d_10 (UpSampling2D) (None, 32, 32, 256)  0           conv2d_77[0][0]                  \n",
            "__________________________________________________________________________________________________\n",
            "concatenate_4 (Concatenate)     (None, 32, 32, 384)  0           up_sampling2d_10[0][0]           \n",
            "                                                                 conv2d_75[0][0]                  \n",
            "__________________________________________________________________________________________________\n",
            "conv2d_78 (Conv2D)              (None, 32, 32, 128)  442496      concatenate_4[0][0]              \n",
            "__________________________________________________________________________________________________\n",
            "conv2d_79 (Conv2D)              (None, 32, 32, 128)  147584      conv2d_78[0][0]                  \n",
            "__________________________________________________________________________________________________\n",
            "up_sampling2d_11 (UpSampling2D) (None, 64, 64, 128)  0           conv2d_79[0][0]                  \n",
            "__________________________________________________________________________________________________\n",
            "conv2d_73 (Conv2D)              (None, 64, 64, 64)   36928       conv2d_72[0][0]                  \n",
            "__________________________________________________________________________________________________\n",
            "concatenate_5 (Concatenate)     (None, 64, 64, 192)  0           up_sampling2d_11[0][0]           \n",
            "                                                                 conv2d_73[0][0]                  \n",
            "__________________________________________________________________________________________________\n",
            "conv2d_80 (Conv2D)              (None, 64, 64, 64)   110656      concatenate_5[0][0]              \n",
            "__________________________________________________________________________________________________\n",
            "conv2d_81 (Conv2D)              (None, 64, 64, 64)   36928       conv2d_80[0][0]                  \n",
            "__________________________________________________________________________________________________\n",
            "conv2d_82 (Conv2D)              (None, 64, 64, 6)    390         conv2d_81[0][0]                  \n",
            "==================================================================================================\n",
            "Total params: 1,885,190\n",
            "Trainable params: 1,885,190\n",
            "Non-trainable params: 0\n",
            "__________________________________________________________________________________________________\n"
          ],
          "name": "stdout"
        }
      ]
    },
    {
      "cell_type": "code",
      "metadata": {
        "id": "x6eLG-3Rh8Vg",
        "colab_type": "code",
        "colab": {}
      },
      "source": [
        ""
      ],
      "execution_count": 0,
      "outputs": []
    }
  ]
}